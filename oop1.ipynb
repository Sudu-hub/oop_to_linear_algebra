{
  "nbformat": 4,
  "nbformat_minor": 0,
  "metadata": {
    "colab": {
      "provenance": [],
      "authorship_tag": "ABX9TyPPGvp5OZRtYJ4HbTdNmrOS",
      "include_colab_link": true
    },
    "kernelspec": {
      "name": "python3",
      "display_name": "Python 3"
    },
    "language_info": {
      "name": "python"
    }
  },
  "cells": [
    {
      "cell_type": "markdown",
      "metadata": {
        "id": "view-in-github",
        "colab_type": "text"
      },
      "source": [
        "<a href=\"https://colab.research.google.com/github/Sudu-hub/oop_to_linear_algebra/blob/main/oop1.ipynb\" target=\"_parent\"><img src=\"https://colab.research.google.com/assets/colab-badge.svg\" alt=\"Open In Colab\"/></a>"
      ]
    },
    {
      "cell_type": "code",
      "execution_count": 8,
      "metadata": {
        "id": "_vZw86jlVZNP"
      },
      "outputs": [],
      "source": [
        "class Atm:\n",
        "    # constructor\n",
        "    def __init__(self):\n",
        "        self.pin = ''\n",
        "        self.balance = 0\n",
        "        self.menu()\n",
        "\n",
        "    def menu(self):\n",
        "        user_input = input(\"\"\"\n",
        "        Hi, how can I help you?\n",
        "        1. Press 1 to create pin\n",
        "        2. Press 2 to change pin\n",
        "        3. Press 3 to check balance\n",
        "        4. Press 4 to withdraw\n",
        "        5. Anything else to exit\n",
        "        \"\"\")\n",
        "\n",
        "        if user_input == '1':\n",
        "            # create pin\n",
        "            self.create_pin()\n",
        "        elif user_input == '2':\n",
        "            # change pin\n",
        "            self.change_pin()\n",
        "        elif user_input == '3':\n",
        "            # check balance\n",
        "            self.check_balance()\n",
        "        elif user_input == '4':\n",
        "            # withdraw\n",
        "            self.withdraw()\n",
        "        else:\n",
        "            exit()\n",
        "\n",
        "    def create_pin(self):\n",
        "        user_pin = input('Enter your new pin: ')\n",
        "        self.pin = user_pin\n",
        "\n",
        "        user_balance = int(input(\"Enter your starting balance: \"))\n",
        "        self.balance = user_balance\n",
        "\n",
        "        print('Pin created successfully!')\n",
        "        self.menu()\n",
        "\n",
        "    def change_pin(self):\n",
        "        old_pin = input('Enter your old pin: ')\n",
        "        if old_pin == self.pin:\n",
        "            new_pin = input(\"Enter your new pin: \")\n",
        "            self.pin = new_pin\n",
        "            print('Pin changed successfully!')\n",
        "        else:\n",
        "            print('Incorrect old pin!')\n",
        "        self.menu()\n",
        "\n",
        "    def check_balance(self):\n",
        "        entered_pin = input(\"Enter your pin: \")\n",
        "        if entered_pin == self.pin:\n",
        "            print(f'Your current balance is: ₹{self.balance}')\n",
        "        else:\n",
        "            print('Incorrect pin!')\n",
        "        self.menu()\n",
        "\n",
        "    def withdraw(self):\n",
        "        entered_pin = input(\"Enter your pin: \")\n",
        "        if entered_pin == self.pin:\n",
        "            amount = int(input(\"Enter the amount to withdraw: \"))\n",
        "            if amount <= self.balance:\n",
        "                self.balance -= amount\n",
        "                print(f'Withdrawal successful! Remaining balance: ₹{self.balance}')\n",
        "            else:\n",
        "                print('Insufficient balance!')\n",
        "        else:\n",
        "            print('Incorrect pin!')\n",
        "        self.menu()\n",
        "\n"
      ]
    },
    {
      "cell_type": "code",
      "source": [
        "s = Atm()"
      ],
      "metadata": {
        "colab": {
          "base_uri": "https://localhost:8080/"
        },
        "id": "BUN_3J6pfntI",
        "outputId": "c749d21b-105a-47e8-a574-a627c4427de8"
      },
      "execution_count": 9,
      "outputs": [
        {
          "name": "stdout",
          "output_type": "stream",
          "text": [
            "\n",
            "        Hi, how can I help you?\n",
            "        1. Press 1 to create pin\n",
            "        2. Press 2 to change pin\n",
            "        3. Press 3 to check balance\n",
            "        4. Press 4 to withdraw\n",
            "        5. Anything else to exit\n",
            "        1\n",
            "Enter your new pin: 1234\n",
            "Enter your starting balance: 10000\n",
            "Pin created successfully!\n",
            "\n",
            "        Hi, how can I help you?\n",
            "        1. Press 1 to create pin\n",
            "        2. Press 2 to change pin\n",
            "        3. Press 3 to check balance\n",
            "        4. Press 4 to withdraw\n",
            "        5. Anything else to exit\n",
            "        2\n",
            "Enter your old pin: 1234\n",
            "Enter your new pin: 2345\n",
            "Pin changed successfully!\n",
            "\n",
            "        Hi, how can I help you?\n",
            "        1. Press 1 to create pin\n",
            "        2. Press 2 to change pin\n",
            "        3. Press 3 to check balance\n",
            "        4. Press 4 to withdraw\n",
            "        5. Anything else to exit\n",
            "        3\n",
            "Enter your pin: 2345\n",
            "Your current balance is: ₹10000\n",
            "\n",
            "        Hi, how can I help you?\n",
            "        1. Press 1 to create pin\n",
            "        2. Press 2 to change pin\n",
            "        3. Press 3 to check balance\n",
            "        4. Press 4 to withdraw\n",
            "        5. Anything else to exit\n",
            "        4\n",
            "Enter your pin: 2345\n",
            "Enter the amount to withdraw: 5000\n",
            "Withdrawal successful! Remaining balance: ₹5000\n",
            "\n",
            "        Hi, how can I help you?\n",
            "        1. Press 1 to create pin\n",
            "        2. Press 2 to change pin\n",
            "        3. Press 3 to check balance\n",
            "        4. Press 4 to withdraw\n",
            "        5. Anything else to exit\n",
            "        5\n"
          ]
        }
      ]
    },
    {
      "cell_type": "code",
      "source": [],
      "metadata": {
        "id": "vCaXcXxMgoB3"
      },
      "execution_count": null,
      "outputs": []
    }
  ]
}